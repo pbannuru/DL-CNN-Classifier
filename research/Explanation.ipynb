{
 "cells": [
  {
   "cell_type": "markdown",
   "metadata": {},
   "source": [
    "DATAINGESTION-TRAINING STEPS:-"
   ]
  },
  {
   "cell_type": "markdown",
   "metadata": {},
   "source": [
    "Constants-init- has \n",
    "CONFIG_FILE_PATH,PARAMS_FILE_PATH = paths of both these"
   ]
  },
  {
   "cell_type": "markdown",
   "metadata": {},
   "source": [
    "STAGE1:DATA-INGESTION:\n",
    "\n",
    "# named tuple creation:by class method\n",
    "1.DataIngestionConfig class has class variables:root_dir,source_URL,local_data_file,unzip_dir\n",
    "2.ConfigurationManager class :\n",
    "   1. init taken config_file_path and param_file_path.\n",
    "   2. create root directory /artifacts from utility we imported create_directories class\n",
    "   3.get_data_ingestion_config() : class : created root directory for this point and merges config.yaml values with named tuple keys\n",
    "3. COMPONENT: \n",
    "    DataIngestion:\n",
    "        1. init has config:DataIngestionConfig\n",
    "        2. download_file(): function : if datafile doesnot exists in the system then only do the download, with urllib.request lib retrieved the data\n",
    "        3. unzip_and_clean(): function : reading the zip file and cleaning the files such as other than jpeg format and 0kb size file will be removed for that filename.namelist() : function : helps to find names of images and also used hidden method _get_updated_list_of_files() : function : to remove those unwanted files, _preprocess(): hidden method function : size is checked and removed\n",
    "\n",
    "        4. _get_updated_list_of_files() : function : here given conditions: endswith jpeg and names of file is cat or dog then only select those files.\n",
    "\n",
    "        5. _preprocess() : function : to remove 0kb size file.\n",
    "4. pipeline created : by taking ConfigurationManager, take all functions in component and ConfigManager.\n",
    "    get_data_ingestion_config(),download_file(),unzip_and_clean()"
   ]
  },
  {
   "cell_type": "markdown",
   "metadata": {},
   "source": []
  }
 ],
 "metadata": {
  "kernelspec": {
   "display_name": "Python 3.7.0",
   "language": "python",
   "name": "python3"
  },
  "language_info": {
   "codemirror_mode": {
    "name": "ipython",
    "version": 3
   },
   "file_extension": ".py",
   "mimetype": "text/x-python",
   "name": "python",
   "nbconvert_exporter": "python",
   "pygments_lexer": "ipython3",
   "version": "3.7.0"
  },
  "orig_nbformat": 4,
  "vscode": {
   "interpreter": {
    "hash": "2bcc22f112b318a571c13e526e5aad1b50d46ed3d0a481dc0b98d72e24317aa5"
   }
  }
 },
 "nbformat": 4,
 "nbformat_minor": 2
}
